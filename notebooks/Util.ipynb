{
 "cells": [
  {
   "cell_type": "code",
   "execution_count": 3,
   "metadata": {},
   "outputs": [
    {
     "name": "stderr",
     "output_type": "stream",
     "text": [
      "C:\\Users\\X2JERICH\\AppData\\Local\\Temp\\ipykernel_11116\\3005922302.py:31: FutureWarning: 'H' is deprecated and will be removed in a future version, please use 'h' instead.\n",
      "  df_resampled = df.resample(\"H\").ffill()\n"
     ]
    }
   ],
   "source": [
    "import pandas as pd\n",
    "from datetime import datetime\n",
    "\n",
    "def process_excel_to_csv(input_excel, output_csv):\n",
    "    \"\"\"\n",
    "    Reads the first sheet of an Excel workbook, transposes the data, converts the index\n",
    "    to datetime from the format \"Apr 2025\", resamples from monthly to hourly, fills forward,\n",
    "    and saves the result to a new CSV file.\n",
    "\n",
    "    Args:\n",
    "        input_excel (str): Path to the input Excel file.\n",
    "        output_csv (str): Path to save the output CSV file.\n",
    "\n",
    "    Returns:\n",
    "        None\n",
    "    \"\"\"\n",
    "    # Read the first sheet of the Excel workbook\n",
    "    df = pd.read_excel(input_excel, sheet_name=0, header=0)\n",
    "\n",
    "    # Transpose the DataFrame\n",
    "    df = df.transpose()\n",
    "\n",
    "    # The first row becomes the column headers\n",
    "    df.columns = df.iloc[0]\n",
    "    df = df[1:]\n",
    "\n",
    "    # Convert the index to datetime using the format \"Apr 2025\"\n",
    "    df.index = pd.to_datetime(df.index, format=\"%b %Y\")\n",
    "\n",
    "    # Resample the data from monthly to hourly, filling forward\n",
    "    df_resampled = df.resample(\"H\").ffill()\n",
    "\n",
    "    # Save the resampled DataFrame to a new CSV file\n",
    "    df_resampled.to_csv(output_csv)\n",
    "\n",
    "# Example usage\n",
    "input_excel = \"../southernoperations/$ per MWh 2025.xlsx\"  # Replace with the path to your input Excel file\n",
    "output_csv = \"../southernoperations/Rev_per_MWh_2025.csv\"   # Replace with the path to save your output CSV file\n",
    "process_excel_to_csv(input_excel, output_csv)"
   ]
  }
 ],
 "metadata": {
  "kernelspec": {
   "display_name": "aiid_env",
   "language": "python",
   "name": "python3"
  },
  "language_info": {
   "codemirror_mode": {
    "name": "ipython",
    "version": 3
   },
   "file_extension": ".py",
   "mimetype": "text/x-python",
   "name": "python",
   "nbconvert_exporter": "python",
   "pygments_lexer": "ipython3",
   "version": "3.11.0"
  }
 },
 "nbformat": 4,
 "nbformat_minor": 2
}
