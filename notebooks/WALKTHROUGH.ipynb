{
 "cells": [
  {
   "cell_type": "markdown",
   "metadata": {},
   "source": [
    "# Process Performance and Reliability Data Sets\n",
    "\n"
   ]
  },
  {
   "cell_type": "code",
   "execution_count": 1,
   "metadata": {},
   "outputs": [
    {
     "name": "stdout",
     "output_type": "stream",
     "text": [
      "Fleet 125: Processing PDK...\n",
      "Fleet 391: Calculating Power Curves for PDK\n",
      "[WindFarm 496] processing severity PDK, Xfrm_Aux_Temp...\n",
      "[WindFarm 496] processing severity PDK, Ctrl_Gnd_Temp...\n",
      "[WindFarm 496] processing severity PDK, Ctrl_Hub_Temp...\n",
      "[WindFarm 496] processing severity PDK, Ctrl_Top_Temp...\n",
      "[WindFarm 496] processing severity PDK, Ctrl_VCP_Temp...\n",
      "[WindFarm 496] processing severity PDK, Gbx_CoolingWater_Temp...\n",
      "[WindFarm 496] processing severity PDK, Gbx_Oil_Temp...\n",
      "[WindFarm 496] processing severity PDK, Main_Brg_Temp...\n",
      "[WindFarm 496] processing severity PDK, Gen_Brg_DE_Temp...\n",
      "[WindFarm 496] processing severity PDK, Gen_Brg_NDE_Temp...\n",
      "[WindFarm 496] processing severity PDK, Gen_CoolingFluid_Temp...\n",
      "[WindFarm 496] processing severity PDK, Gen_Windings_PhaseA_Temp...\n",
      "[WindFarm 496] processing severity PDK, Gen_Windings_PhaseB_Temp...\n",
      "[WindFarm 496] processing severity PDK, Gen_Windings_PhaseC_Temp...\n",
      "[WindFarm 496] processing severity PDK, Gbx_Brg_HighSpd_Temp...\n",
      "[WindFarm 496] processing severity PDK, HPU_Oil_Temp...\n",
      "[WindFarm 496] processing severity PDK, Gbx_Brg_IntrSpd_NDE_Temp...\n",
      "[WindFarm 496] processing severity PDK, Gbx_Brg_IntrSpd_DE_Temp...\n",
      "[WindFarm 496] processing severity PDK, Xfrm_MV_CorePhaseA_Temp...\n",
      "[WindFarm 496] processing severity PDK, Xfrm_MV_CorePhaseB_Temp...\n",
      "[WindFarm 496] processing severity PDK, Xfrm_MV_CorePhaseC_Temp...\n",
      "[WindFarm 496] processing severity PDK, Xfrm_MV_PhaseA_Temp...\n",
      "[WindFarm 496] processing severity PDK, Nacelle_Temp...\n",
      "[WindFarm 496] processing severity PDK, Hub_Temp...\n",
      "[WindFarm 496] processing severity PDK, Lost_Energy...\n",
      "[WindFarm 496] processing severity PDK, Yaw_Error...\n"
     ]
    }
   ],
   "source": [
    "import sys\n",
    "import pandas as pd \n",
    "sys.path.append('..')\n",
    "from Model.Fleet import Fleet\n",
    "\n",
    "avg_path = '../southernoperations/AIID/AVG'\n",
    "compressed_path = '../southernoperations/AIID/CMP'\n",
    "yaw_path = '../southernoperations/AIID/YAW'\n",
    "oem_powercurves_path = '../assets/data/power_curves/all_power_curves.csv'\n",
    "\n",
    "fleet = Fleet(avg_dir=avg_path,cmp_dir=compressed_path, \n",
    "              yaw_dir=yaw_path, \n",
    "              oem_powercurves_path=oem_powercurves_path, \n",
    "              single_plant='PDK') # Remove this if you want to run more than 1 site\n",
    "\n",
    "powercurves = fleet.get_powercurves()\n",
    "powercurve_distributions = fleet.get_powercurve_distributions()\n",
    "daily_severity_scores = fleet.daily_severity_scores\n",
    "daily_severity_scores.columns = [x.replace(\"-LOST-ENERGY\",\"-SEVERITY\") for x in daily_severity_scores.columns]\n",
    "daily_efficiencies =fleet.get_daily_efficiency()\n",
    "daily_lost_energy = fleet.get_daily_lost_energy()\n",
    "daily_lost_revenue = fleet.get_daily_lost_revenue()\n",
    "daily_means = fleet.get_daily_mean()\n",
    "daily_severity_scores = pd.concat([daily_severity_scores,daily_efficiencies,daily_lost_energy,daily_lost_revenue,daily_means], axis=1)\n",
    "\n",
    "daily_severity_scores.to_csv('../southernoperations/AIID/fleet_daily_severity_scores_stage.csv')\n",
    "powercurves.to_csv('../southernoperations/AIID/power_curve.csv')\n",
    "powercurve_distributions.to_csv('../southernoperations/AIID/power_curve_counts.csv')"
   ]
  },
  {
   "cell_type": "markdown",
   "metadata": {},
   "source": [
    "# Process Fleet Output\n",
    "This finalizes the processed data for use in the UI performance and reliability area "
   ]
  },
  {
   "cell_type": "code",
   "execution_count": 2,
   "metadata": {},
   "outputs": [
    {
     "name": "stdout",
     "output_type": "stream",
     "text": [
      "Data output to southernoperations/AIID\n"
     ]
    }
   ],
   "source": [
    "import pandas as pd \n",
    "\n",
    "treemap_data = pd.read_csv('../southernoperations/AIID/fleet_daily_severity_scores_stage.csv', index_col=[0], parse_dates = [0])\n",
    "try:\n",
    "    treemap_data = treemap_data[~treemap_data.index.to_series().str.match(r'\\d{4}-\\d{2}-\\d{2} \\d{2}:\\d{2}:\\d{2}')]\n",
    "except:\n",
    "    pass\n",
    "\n",
    "treemap_data.index =pd.to_datetime(treemap_data.index)\n",
    "\n",
    "type_func = lambda x: '-'.join(x.split('-')[2:])\n",
    "col_suffixes = sorted(list(set([type_func(x) for x in treemap_data.columns])))\n",
    "\n",
    "temp_treemap_data= treemap_data[[x for x in treemap_data.columns if not any(y in x for y in ['KW','SIMPLE-EFFICIENCY'])]]\n",
    "\n",
    "temp_treemap_data.to_csv('../southernoperations/AIID/treemap_data.csv')\n",
    "\n",
    "efficiency_treemap = treemap_data[[x for x in treemap_data.columns if any(y in type_func(x) or y.endswith('_mean') for y in ['KW',\n",
    "                                                                                           'EFFICIENCY',\n",
    "                                                                                           'SEVERITY',\n",
    "                                                                                           'LOST-ENERGY',\n",
    "                                                                                           'LOST-REVENUE'])]]\n",
    "efficiency_treemap.to_csv('../southernoperations/AIID/treemap_data_simple_efficiency.csv')\n",
    "\n",
    "yaw_error_treemap_data = treemap_data[[x for x in treemap_data.columns if any(y in x for y in ['YAW-ERROR'])]]\n",
    "yaw_error_treemap_data.to_csv('../southernoperations/AIID/radial_yaw_error.csv')\n",
    "\n",
    "print(\"Data output to southernoperations/AIID\")"
   ]
  },
  {
   "cell_type": "markdown",
   "metadata": {},
   "source": [
    "# Process Fault Analysis Data Sets\n",
    "\n",
    "Processes raw 10 minute average and compressed fault code data into data ready to be consumed  by the UI in the fault analysis area"
   ]
  },
  {
   "cell_type": "code",
   "execution_count": 3,
   "metadata": {},
   "outputs": [
    {
     "name": "stdout",
     "output_type": "stream",
     "text": [
      "Processing BR2\n",
      "       BR2-K001\n",
      "       BR2-K002\n",
      "       BR2-K003\n",
      "       BR2-K004\n",
      "       BR2-K005\n",
      "       BR2-K006\n",
      "       BR2-K007\n",
      "       BR2-K008\n",
      "       BR2-K009\n",
      "       BR2-K010\n",
      "       BR2-K011\n",
      "       BR2-K012\n",
      "       BR2-K013\n",
      "       BR2-K014\n",
      "       BR2-K015\n",
      "       BR2-K016\n",
      "       BR2-K017\n",
      "       BR2-K018\n",
      "       BR2-K019\n",
      "       BR2-K020\n",
      "Fault data transformed and output to \"southernoperations/AIID/Processed Faults\"\n",
      "Processing BTH\n",
      "       BTH-T001\n",
      "       BTH-T002\n",
      "       BTH-T003\n",
      "       BTH-T004\n",
      "       BTH-T005\n",
      "       BTH-T006\n",
      "       BTH-T007\n",
      "       BTH-T008\n",
      "       BTH-T009\n",
      "       BTH-T010\n",
      "       BTH-T011\n",
      "       BTH-T012\n",
      "       BTH-T013\n",
      "       BTH-T014\n",
      "       BTH-T015\n",
      "       BTH-T016\n",
      "       BTH-T017\n",
      "       BTH-T018\n",
      "       BTH-T019\n",
      "       BTH-T020\n",
      "       BTH-T021\n",
      "       BTH-T022\n",
      "       BTH-T023\n",
      "       BTH-T024\n",
      "       BTH-T025\n",
      "       BTH-T026\n",
      "       BTH-T027\n",
      "       BTH-T028\n",
      "       BTH-T029\n",
      "       BTH-T030\n",
      "       BTH-T031\n",
      "       BTH-T032\n",
      "       BTH-T033\n",
      "       BTH-T034\n",
      "       BTH-T035\n",
      "BTH-T036 is empty\n",
      "       BTH-T037\n",
      "       BTH-T038\n",
      "       BTH-T039\n",
      "       BTH-T040\n",
      "       BTH-T041\n",
      "       BTH-T042\n",
      "       BTH-T043\n",
      "       BTH-T044\n",
      "       BTH-T045\n",
      "       BTH-T046\n",
      "       BTH-T047\n",
      "       BTH-T048\n",
      "       BTH-T049\n",
      "       BTH-T050\n",
      "       BTH-T051\n",
      "       BTH-T052\n",
      "       BTH-T053\n",
      "       BTH-T054\n",
      "       BTH-T055\n",
      "       BTH-T056\n",
      "       BTH-T057\n",
      "       BTH-T058\n",
      "       BTH-T059\n",
      "       BTH-T060\n",
      "       BTH-T061\n",
      "       BTH-T062\n",
      "       BTH-T063\n",
      "       BTH-T064\n",
      "       BTH-T065\n",
      "       BTH-T066\n",
      "       BTH-T067\n",
      "       BTH-T068\n",
      "       BTH-T069\n",
      "       BTH-T070\n",
      "       BTH-T071\n",
      "       BTH-T072\n",
      "       BTH-T073\n",
      "       BTH-T074\n",
      "       BTH-T075\n",
      "       BTH-T076\n",
      "       BTH-T077\n",
      "       BTH-T078\n",
      "       BTH-T079\n",
      "       BTH-T080\n",
      "       BTH-T081\n",
      "BTH-T082 is empty\n",
      "       BTH-T083\n",
      "       BTH-T084\n",
      "       BTH-T085\n",
      "       BTH-T086\n",
      "       BTH-T087\n",
      "       BTH-T088\n",
      "       BTH-T089\n",
      "       BTH-T090\n",
      "       BTH-T091\n",
      "       BTH-T092\n",
      "       BTH-T093\n",
      "       BTH-T094\n",
      "       BTH-T095\n",
      "       BTH-T096\n",
      "       BTH-T097\n",
      "       BTH-T098\n",
      "       BTH-T099\n",
      "       BTH-T100\n",
      "       BTH-T101\n",
      "       BTH-T102\n",
      "       BTH-T103\n",
      "       BTH-T104\n",
      "       BTH-T105\n",
      "       BTH-T106\n",
      "       BTH-T107\n",
      "       BTH-T108\n",
      "       BTH-T109\n",
      "       BTH-T110\n",
      "       BTH-T111\n",
      "       BTH-T112\n",
      "       BTH-T113\n",
      "       BTH-T114\n",
      "       BTH-T115\n",
      "       BTH-T116\n",
      "       BTH-T117\n",
      "       BTH-T118\n",
      "       BTH-T119\n",
      "       BTH-T120\n",
      "Fault data transformed and output to \"southernoperations/AIID/Processed Faults\"\n",
      "Processing CFW\n",
      "       CFW-T001\n",
      "       CFW-T002\n",
      "       CFW-T003\n",
      "       CFW-T008\n",
      "       CFW-T009\n",
      "       CFW-T010\n",
      "       CFW-T016\n",
      "       CFW-T017\n",
      "       CFW-T018\n",
      "       CFW-T019\n",
      "       CFW-T020\n",
      "       CFW-T021\n",
      "       CFW-T023\n",
      "       CFW-T024\n",
      "       CFW-T025\n",
      "       CFW-T027\n",
      "       CFW-T028\n",
      "       CFW-T029\n",
      "       CFW-T031\n",
      "       CFW-T032\n",
      "       CFW-T033\n",
      "       CFW-T034\n",
      "       CFW-T035\n",
      "       CFW-T036\n",
      "       CFW-T037\n",
      "       CFW-T038\n",
      "       CFW-T039\n",
      "       CFW-T040\n",
      "       CFW-T041\n",
      "       CFW-T042\n",
      "       CFW-T043\n",
      "       CFW-T046\n",
      "       CFW-T047\n",
      "       CFW-T048\n",
      "       CFW-T049\n",
      "       CFW-T050\n",
      "       CFW-T051\n",
      "       CFW-T052\n",
      "       CFW-T054\n",
      "       CFW-T055\n",
      "       CFW-T056\n",
      "       CFW-T057\n",
      "       CFW-T058\n",
      "Fault data transformed and output to \"southernoperations/AIID/Processed Faults\"\n",
      "Processing DHW\n",
      "       DHW-T001\n",
      "       DHW-T002\n",
      "       DHW-T003\n",
      "       DHW-T004\n",
      "       DHW-T005\n",
      "       DHW-T006\n",
      "       DHW-T007\n",
      "       DHW-T008\n",
      "       DHW-T009\n",
      "       DHW-T010\n",
      "       DHW-T011\n",
      "       DHW-T012\n",
      "       DHW-T013\n",
      "       DHW-T014\n",
      "       DHW-T015\n",
      "       DHW-T016\n",
      "       DHW-T017\n",
      "       DHW-T018\n",
      "       DHW-T019\n",
      "       DHW-T020\n",
      "       DHW-T021\n",
      "       DHW-T022\n",
      "       DHW-T023\n",
      "       DHW-T024\n",
      "       DHW-T025\n",
      "       DHW-T026\n",
      "       DHW-T027\n",
      "       DHW-T028\n",
      "       DHW-T029\n",
      "       DHW-T030\n",
      "       DHW-T031\n",
      "       DHW-T032\n",
      "       DHW-T033\n",
      "       DHW-T034\n",
      "       DHW-T035\n",
      "       DHW-T036\n",
      "       DHW-T037\n",
      "       DHW-T038\n",
      "       DHW-T039\n",
      "       DHW-T040\n",
      "       DHW-T041\n",
      "       DHW-T042\n",
      "       DHW-T043\n",
      "       DHW-T044\n",
      "       DHW-T045\n",
      "       DHW-T046\n",
      "       DHW-T047\n",
      "       DHW-T048\n",
      "       DHW-T049\n",
      "       DHW-T050\n",
      "       DHW-T051\n",
      "       DHW-T052\n",
      "       DHW-T053\n",
      "       DHW-T054\n",
      "       DHW-T055\n",
      "       DHW-T056\n",
      "       DHW-T057\n",
      "       DHW-T058\n",
      "       DHW-T059\n",
      "       DHW-T060\n",
      "       DHW-T061\n",
      "       DHW-T062\n",
      "       DHW-T063\n",
      "       DHW-T064\n",
      "       DHW-T065\n",
      "       DHW-T066\n",
      "       DHW-T067\n",
      "       DHW-T068\n",
      "       DHW-T069\n",
      "       DHW-T070\n",
      "       DHW-T071\n",
      "       DHW-T072\n",
      "       DHW-T073\n",
      "       DHW-T074\n",
      "       DHW-T075\n",
      "       DHW-T076\n",
      "       DHW-T077\n",
      "       DHW-T078\n",
      "       DHW-T079\n",
      "       DHW-T080\n",
      "       DHW-T081\n",
      "       DHW-T082\n",
      "       DHW-T083\n",
      "       DHW-T084\n",
      "       DHW-T085\n",
      "       DHW-T086\n",
      "       DHW-T087\n",
      "       DHW-T088\n",
      "       DHW-T089\n",
      "       DHW-T090\n",
      "       DHW-T091\n",
      "       DHW-T092\n",
      "       DHW-T093\n",
      "       DHW-T094\n",
      "       DHW-T095\n",
      "       DHW-T096\n",
      "       DHW-T097\n",
      "       DHW-T098\n",
      "       DHW-T099\n",
      "       DHW-T100\n",
      "       DHW-T101\n",
      "       DHW-T102\n",
      "       DHW-T103\n",
      "       DHW-T104\n",
      "       DHW-T105\n",
      "       DHW-T106\n",
      "       DHW-T107\n",
      "       DHW-T108\n",
      "       DHW-T109\n",
      "Fault data transformed and output to \"southernoperations/AIID/Processed Faults\"\n",
      "Processing GNT\n",
      "       GNT-A003\n",
      "       GNT-A004\n",
      "       GNT-A005\n",
      "       GNT-A006\n",
      "       GNT-A007\n",
      "       GNT-A008\n",
      "       GNT-A009\n",
      "       GNT-A010\n",
      "       GNT-B001\n",
      "       GNT-B002\n",
      "       GNT-B003\n",
      "       GNT-B004\n",
      "       GNT-B005\n",
      "       GNT-B006\n",
      "       GNT-B007\n",
      "       GNT-C001\n",
      "       GNT-C002\n",
      "       GNT-C003\n",
      "       GNT-C004\n",
      "       GNT-C005\n",
      "       GNT-C006\n",
      "       GNT-C007\n",
      "       GNT-C008\n",
      "       GNT-C009\n",
      "       GNT-C010\n",
      "       GNT-C012\n",
      "       GNT-C013\n",
      "       GNT-C014\n",
      "       GNT-C015\n",
      "       GNT-C016\n",
      "       GNT-C017\n",
      "       GNT-C018\n",
      "       GNT-C019\n",
      "       GNT-C020\n",
      "       GNT-C021\n",
      "       GNT-C022\n",
      "       GNT-D002\n",
      "       GNT-D003\n",
      "       GNT-D004\n",
      "       GNT-E001\n",
      "       GNT-E002\n",
      "       GNT-E003\n",
      "       GNT-E004\n",
      "       GNT-E005\n",
      "       GNT-E006\n",
      "       GNT-E007\n",
      "       GNT-E008\n",
      "       GNT-E009\n",
      "       GNT-E010\n",
      "       GNT-E011\n",
      "       GNT-E012\n",
      "       GNT-E013\n",
      "       GNT-E014\n",
      "       GNT-E015\n",
      "       GNT-E016\n",
      "       GNT-E017\n",
      "       GNT-E018\n",
      "       GNT-E019\n",
      "       GNT-E020\n",
      "       GNT-E021\n",
      "       GNT-E022\n",
      "       GNT-F001\n",
      "       GNT-F002\n",
      "       GNT-F003\n",
      "       GNT-F004\n",
      "       GNT-F005\n",
      "Fault data transformed and output to \"southernoperations/AIID/Processed Faults\"\n",
      "Processing GNP\n",
      "       GNP-G001\n",
      "       GNP-G002\n",
      "       GNP-G003\n",
      "       GNP-G004\n",
      "       GNP-G005\n",
      "       GNP-G006\n",
      "       GNP-G007\n",
      "       GNP-G008\n",
      "       GNP-G009\n",
      "       GNP-G010\n",
      "       GNP-G011\n",
      "       GNP-H001\n",
      "       GNP-H002\n",
      "       GNP-H003\n",
      "       GNP-H004\n",
      "       GNP-H005\n",
      "       GNP-H006\n",
      "       GNP-H007\n",
      "       GNP-H008\n",
      "       GNP-H009\n",
      "       GNP-H010\n",
      "       GNP-H011\n",
      "       GNP-H012\n",
      "       GNP-H013\n",
      "       GNP-H014\n",
      "       GNP-H015\n",
      "       GNP-H016\n",
      "       GNP-H017\n",
      "       GNP-H018\n",
      "       GNP-H019\n",
      "       GNP-H020\n",
      "       GNP-H021\n",
      "       GNP-H022\n",
      "       GNP-H024\n",
      "       GNP-H025\n",
      "       GNP-H026\n",
      "       GNP-H027\n",
      "       GNP-H028\n",
      "       GNP-I001\n",
      "       GNP-I002\n",
      "       GNP-I003\n",
      "       GNP-I004\n",
      "       GNP-I005\n",
      "       GNP-I006\n",
      "       GNP-I007\n",
      "       GNP-I008\n",
      "       GNP-I009\n",
      "       GNP-I010\n",
      "       GNP-I011\n",
      "       GNP-I012\n",
      "       GNP-I013\n",
      "       GNP-I014\n",
      "       GNP-I015\n",
      "       GNP-I016\n",
      "       GNP-I017\n",
      "       GNP-I018\n",
      "       GNP-I019\n",
      "       GNP-I020\n",
      "       GNP-J002\n",
      "       GNP-J003\n",
      "       GNP-J004\n",
      "       GNP-J005\n",
      "       GNP-J006\n",
      "       GNP-J007\n",
      "Fault data transformed and output to \"southernoperations/AIID/Processed Faults\"\n",
      "Processing GSW\n",
      "       GSW-T001\n",
      "       GSW-T002\n",
      "       GSW-T003\n",
      "       GSW-T004\n",
      "       GSW-T005\n",
      "       GSW-T006\n",
      "       GSW-T007\n",
      "       GSW-T008\n",
      "       GSW-T009\n",
      "       GSW-T010\n",
      "       GSW-T011\n",
      "       GSW-T012\n",
      "       GSW-T013\n",
      "       GSW-T014\n",
      "       GSW-T016\n",
      "       GSW-T017\n",
      "       GSW-T018\n",
      "       GSW-T019\n",
      "       GSW-T020\n",
      "       GSW-T021\n",
      "       GSW-T022\n",
      "       GSW-T023\n",
      "       GSW-T024\n",
      "       GSW-T025\n",
      "       GSW-T026\n",
      "       GSW-T027\n",
      "       GSW-T028\n",
      "       GSW-T029\n",
      "Fault data transformed and output to \"southernoperations/AIID/Processed Faults\"\n",
      "Processing KAY\n",
      "       KAY-A001\n",
      "       KAY-A002\n",
      "       KAY-A003\n",
      "       KAY-A004\n",
      "       KAY-B001\n",
      "       KAY-B003\n",
      "       KAY-C001\n",
      "       KAY-C002\n",
      "       KAY-C003\n",
      "       KAY-C004\n",
      "       KAY-C005\n",
      "       KAY-C006\n",
      "       KAY-C007\n",
      "       KAY-C008\n",
      "       KAY-C009\n",
      "       KAY-C010\n",
      "       KAY-C011\n",
      "       KAY-C012\n",
      "       KAY-C013\n",
      "       KAY-C014\n",
      "       KAY-C015\n",
      "       KAY-C016\n",
      "       KAY-C017\n",
      "       KAY-C018\n",
      "       KAY-C019\n",
      "       KAY-C020\n",
      "       KAY-C021\n",
      "       KAY-C022\n",
      "       KAY-D001\n",
      "       KAY-D002\n",
      "       KAY-D003\n",
      "       KAY-D004\n",
      "       KAY-D005\n",
      "       KAY-D006\n",
      "       KAY-D007\n",
      "       KAY-D008\n",
      "       KAY-D009\n",
      "       KAY-D010\n",
      "       KAY-D012\n",
      "       KAY-D013\n",
      "       KAY-D014\n",
      "       KAY-E001\n",
      "       KAY-E002\n",
      "       KAY-E003\n",
      "       KAY-E004\n",
      "       KAY-E006\n",
      "       KAY-E007\n",
      "       KAY-E008\n",
      "       KAY-E009\n",
      "       KAY-E010\n",
      "       KAY-E011\n",
      "       KAY-E012\n",
      "       KAY-E013\n",
      "       KAY-E014\n",
      "       KAY-E015\n",
      "       KAY-F001\n",
      "       KAY-F002\n",
      "       KAY-F003\n",
      "       KAY-F004\n",
      "       KAY-F005\n",
      "       KAY-F006\n",
      "       KAY-F008\n",
      "       KAY-F009\n",
      "       KAY-F010\n",
      "       KAY-F012\n",
      "       KAY-F013\n",
      "       KAY-F014\n",
      "       KAY-F015\n",
      "       KAY-F016\n",
      "       KAY-F017\n",
      "       KAY-F018\n",
      "       KAY-F019\n",
      "       KAY-F020\n",
      "       KAY-F021\n",
      "       KAY-F022\n",
      "       KAY-F023\n",
      "       KAY-F024\n",
      "       KAY-G001\n",
      "       KAY-G002\n",
      "       KAY-G003\n",
      "       KAY-G004\n",
      "       KAY-G005\n",
      "       KAY-G006\n",
      "       KAY-G007\n",
      "       KAY-G020\n",
      "       KAY-H001\n",
      "       KAY-H002\n",
      "       KAY-H003\n",
      "       KAY-H005\n",
      "       KAY-H006\n",
      "       KAY-H007\n",
      "       KAY-H008\n",
      "       KAY-H009\n",
      "       KAY-H010\n",
      "       KAY-H011\n",
      "       KAY-H012\n",
      "       KAY-H013\n",
      "       KAY-H014\n",
      "       KAY-H015\n",
      "       KAY-H016\n",
      "       KAY-H017\n",
      "       KAY-H018\n",
      "       KAY-H019\n",
      "       KAY-H020\n",
      "       KAY-I001\n",
      "       KAY-I002\n",
      "       KAY-I003\n",
      "       KAY-I004\n",
      "       KAY-I005\n",
      "       KAY-I006\n",
      "       KAY-I007\n",
      "       KAY-J001\n",
      "       KAY-J002\n",
      "       KAY-J003\n",
      "       KAY-J004\n",
      "       KAY-J005\n",
      "       KAY-J006\n",
      "       KAY-J007\n",
      "       KAY-J008\n",
      "       KAY-J009\n",
      "       KAY-J010\n",
      "       KAY-J011\n",
      "       KAY-J012\n",
      "       KAY-J013\n",
      "       KAY-J014\n",
      "       KAY-J015\n",
      "       KAY-J016\n",
      "       KAY-J017\n",
      "       KAY-J018\n",
      "       KAY-J019\n",
      "Fault data transformed and output to \"southernoperations/AIID/Processed Faults\"\n",
      "Processing PDK\n",
      "       PDK-T001\n",
      "       PDK-T002\n",
      "       PDK-T003\n",
      "       PDK-T004\n",
      "       PDK-T005\n",
      "       PDK-T006\n",
      "       PDK-T007\n",
      "       PDK-T008\n",
      "       PDK-T009\n",
      "       PDK-T010\n",
      "       PDK-T011\n",
      "       PDK-T012\n",
      "       PDK-T013\n",
      "Fault data transformed and output to \"southernoperations/AIID/Processed Faults\"\n",
      "Processing RDG\n",
      "       RDG-S001\n",
      "       RDG-S002\n",
      "       RDG-S003\n",
      "       RDG-S004\n",
      "       RDG-S005\n",
      "       RDG-S006\n",
      "       RDG-S007\n",
      "       RDG-S008\n",
      "       RDG-S009\n",
      "       RDG-S010\n",
      "       RDG-S011\n",
      "       RDG-S012\n",
      "       RDG-S013\n",
      "       RDG-S014\n",
      "RDG-T011 is empty\n",
      "RDG-T012 is empty\n",
      "RDG-T013 is empty\n",
      "RDG-T015 is empty\n",
      "RDG-T016 is empty\n",
      "RDG-T017 is empty\n",
      "RDG-T018 is empty\n",
      "RDG-T019 is empty\n",
      "RDG-T020 is empty\n",
      "RDG-T021 is empty\n",
      "RDG-T022 is empty\n",
      "RDG-T023 is empty\n",
      "RDG-T024 is empty\n",
      "RDG-T025 is empty\n",
      "RDG-T026 is empty\n",
      "RDG-T027 is empty\n",
      "RDG-T028 is empty\n",
      "RDG-T029 is empty\n",
      "RDG-T030 is empty\n",
      "RDG-T031 is empty\n",
      "RDG-T032 is empty\n",
      "RDG-T033 is empty\n",
      "RDG-T034 is empty\n",
      "RDG-T035 is empty\n",
      "RDG-T036 is empty\n",
      "RDG-T037 is empty\n",
      "RDG-T038 is empty\n",
      "RDG-T039 is empty\n",
      "RDG-T040 is empty\n",
      "RDG-T041 is empty\n",
      "RDG-T042 is empty\n",
      "RDG-T043 is empty\n",
      "RDG-T044 is empty\n",
      "RDG-T045 is empty\n",
      "RDG-T046 is empty\n",
      "RDG-T047 is empty\n",
      "RDG-T048 is empty\n",
      "RDG-T049 is empty\n",
      "RDG-T050 is empty\n",
      "RDG-T051 is empty\n",
      "RDG-T052 is empty\n",
      "RDG-T053 is empty\n",
      "RDG-T055 is empty\n",
      "RDG-T056 is empty\n",
      "RDG-T058 is empty\n",
      "RDG-T059 is empty\n",
      "RDG-T060 is empty\n",
      "RDG-T061 is empty\n",
      "Fault data transformed and output to \"southernoperations/AIID/Processed Faults\"\n",
      "Processing SFK\n",
      "       SFK-T001\n",
      "       SFK-T002\n",
      "       SFK-T003\n",
      "       SFK-T004\n",
      "       SFK-T005\n",
      "       SFK-T006\n",
      "       SFK-T007\n",
      "       SFK-T008\n",
      "       SFK-T009\n",
      "       SFK-T010\n",
      "       SFK-T011\n",
      "       SFK-T012\n",
      "       SFK-T013\n",
      "       SFK-T014\n",
      "       SFK-T015\n",
      "       SFK-T016\n",
      "       SFK-T017\n",
      "       SFK-T018\n",
      "       SFK-T019\n",
      "       SFK-T020\n",
      "       SFK-T021\n",
      "       SFK-T022\n",
      "       SFK-T023\n",
      "       SFK-T024\n",
      "       SFK-T025\n",
      "       SFK-T026\n",
      "       SFK-T027\n",
      "       SFK-T028\n",
      "       SFK-T029\n",
      "       SFK-T030\n",
      "       SFK-T031\n",
      "       SFK-T032\n",
      "       SFK-T033\n",
      "       SFK-T034\n",
      "       SFK-T035\n",
      "       SFK-T036\n",
      "       SFK-T037\n",
      "       SFK-T038\n",
      "       SFK-T039\n",
      "       SFK-T040\n",
      "       SFK-T041\n",
      "       SFK-T042\n",
      "       SFK-T043\n",
      "       SFK-T044\n",
      "       SFK-T045\n",
      "       SFK-T046\n",
      "       SFK-T047\n",
      "       SFK-T048\n",
      "       SFK-T049\n",
      "       SFK-T050\n",
      "       SFK-T051\n",
      "       SFK-T052\n",
      "       SFK-T053\n",
      "       SFK-T054\n",
      "       SFK-T055\n",
      "       SFK-T056\n",
      "       SFK-T057\n",
      "       SFK-T058\n",
      "       SFK-T059\n",
      "       SFK-T060\n",
      "       SFK-T061\n",
      "       SFK-T062\n",
      "       SFK-T063\n",
      "       SFK-T064\n",
      "       SFK-T065\n",
      "       SFK-T066\n",
      "       SFK-T067\n",
      "       SFK-T068\n",
      "       SFK-T069\n",
      "       SFK-T070\n",
      "       SFK-T071\n",
      "       SFK-T072\n",
      "       SFK-T073\n",
      "       SFK-T074\n",
      "       SFK-T075\n",
      "       SFK-T076\n",
      "       SFK-T077\n",
      "       SFK-T078\n",
      "       SFK-T079\n",
      "       SFK-T080\n",
      "       SFK-T081\n",
      "       SFK-T082\n",
      "       SFK-T083\n",
      "       SFK-T084\n",
      "       SFK-T085\n",
      "       SFK-T086\n",
      "       SFK-T087\n",
      "Fault data transformed and output to \"southernoperations/AIID/Processed Faults\"\n",
      "Processing SKO\n",
      "       SKO-T001\n",
      "       SKO-T002\n",
      "       SKO-T003\n",
      "       SKO-T004\n",
      "       SKO-T005\n",
      "       SKO-T006\n",
      "       SKO-T007\n",
      "       SKO-T008\n",
      "       SKO-T009\n",
      "       SKO-T010\n",
      "       SKO-T011\n",
      "       SKO-T012\n",
      "       SKO-T013\n",
      "       SKO-T014\n",
      "       SKO-T015\n",
      "       SKO-T016\n",
      "       SKO-T017\n",
      "       SKO-T018\n",
      "       SKO-T019\n",
      "       SKO-T020\n",
      "       SKO-T021\n",
      "       SKO-T022\n",
      "       SKO-T023\n",
      "       SKO-T024\n",
      "       SKO-T025\n",
      "       SKO-T026\n",
      "       SKO-T027\n",
      "       SKO-T028\n",
      "       SKO-T029\n",
      "       SKO-T030\n",
      "       SKO-T031\n",
      "       SKO-T032\n",
      "       SKO-T033\n",
      "       SKO-T034\n",
      "       SKO-T035\n",
      "       SKO-T036\n",
      "       SKO-T037\n",
      "       SKO-T038\n",
      "Fault data transformed and output to \"southernoperations/AIID/Processed Faults\"\n",
      "Processing TBF\n",
      "       TBF-T001\n",
      "       TBF-T002\n",
      "       TBF-T003\n",
      "       TBF-T004\n",
      "       TBF-T005\n",
      "       TBF-T006\n",
      "       TBF-T007\n",
      "       TBF-T008\n",
      "       TBF-T009\n",
      "       TBF-T010\n",
      "       TBF-T011\n",
      "       TBF-T012\n",
      "       TBF-T013\n",
      "       TBF-T014\n",
      "       TBF-T015\n",
      "       TBF-T016\n",
      "       TBF-T017\n",
      "       TBF-T018\n",
      "       TBF-T019\n",
      "       TBF-T020\n",
      "       TBF-T021\n",
      "       TBF-T022\n",
      "       TBF-T023\n",
      "       TBF-T024\n",
      "       TBF-T025\n",
      "       TBF-T026\n",
      "       TBF-T027\n",
      "       TBF-T028\n",
      "       TBF-T029\n",
      "       TBF-T030\n",
      "       TBF-T031\n",
      "       TBF-T032\n",
      "       TBF-T033\n",
      "       TBF-T034\n",
      "       TBF-T035\n",
      "       TBF-T036\n",
      "       TBF-T037\n",
      "       TBF-T038\n",
      "       TBF-T039\n",
      "       TBF-T040\n",
      "       TBF-T041\n",
      "       TBF-T042\n",
      "       TBF-T043\n",
      "       TBF-T044\n",
      "       TBF-T045\n",
      "       TBF-T046\n",
      "       TBF-T047\n",
      "       TBF-T048\n",
      "       TBF-T049\n",
      "       TBF-T050\n",
      "       TBF-T051\n",
      "       TBF-T052\n",
      "Fault data transformed and output to \"southernoperations/AIID/Processed Faults\"\n",
      "Processing WAK\n",
      "       WAK-T001\n",
      "       WAK-T002\n",
      "       WAK-T003\n",
      "       WAK-T004\n",
      "       WAK-T005\n",
      "       WAK-T006\n",
      "       WAK-T007\n",
      "       WAK-T008\n",
      "       WAK-T009\n",
      "       WAK-T010\n",
      "       WAK-T011\n",
      "       WAK-T012\n",
      "       WAK-T013\n",
      "       WAK-T014\n",
      "       WAK-T015\n",
      "       WAK-T016\n",
      "       WAK-T017\n",
      "       WAK-T018\n",
      "       WAK-T019\n",
      "       WAK-T020\n",
      "       WAK-T021\n",
      "       WAK-T022\n",
      "       WAK-T023\n",
      "       WAK-T024\n",
      "       WAK-T025\n",
      "       WAK-T026\n",
      "       WAK-T027\n",
      "       WAK-T028\n",
      "       WAK-T029\n",
      "       WAK-T030\n",
      "       WAK-T031\n",
      "       WAK-T032\n",
      "       WAK-T033\n",
      "       WAK-T034\n",
      "       WAK-T035\n",
      "       WAK-T036\n",
      "       WAK-T037\n",
      "       WAK-T038\n",
      "       WAK-T039\n",
      "       WAK-T040\n",
      "       WAK-T041\n",
      "       WAK-T042\n",
      "       WAK-T043\n",
      "       WAK-T044\n",
      "       WAK-T045\n",
      "       WAK-T046\n",
      "       WAK-T047\n",
      "       WAK-T048\n",
      "       WAK-T049\n",
      "       WAK-T050\n",
      "       WAK-T051\n",
      "       WAK-T052\n",
      "       WAK-T053\n",
      "       WAK-T054\n",
      "       WAK-T055\n",
      "       WAK-T056\n",
      "       WAK-T057\n",
      "       WAK-T058\n",
      "       WAK-T059\n",
      "       WAK-T060\n",
      "       WAK-T061\n",
      "       WAK-T062\n",
      "       WAK-T063\n",
      "       WAK-T064\n",
      "       WAK-T065\n",
      "       WAK-T066\n",
      "       WAK-T067\n",
      "       WAK-T068\n",
      "       WAK-T069\n",
      "       WAK-T070\n",
      "       WAK-T071\n",
      "       WAK-T072\n",
      "       WAK-T073\n",
      "       WAK-T074\n",
      "       WAK-T075\n",
      "       WAK-T076\n",
      "       WAK-T077\n",
      "       WAK-T078\n",
      "       WAK-T079\n",
      "       WAK-T080\n",
      "       WAK-T081\n",
      "       WAK-T082\n",
      "       WAK-T083\n",
      "       WAK-T084\n"
     ]
    }
   ],
   "source": [
    "import sys\n",
    "import os\n",
    "import datetime\n",
    "import pandas as pd\n",
    "\n",
    "sys.path.append('..')\n",
    "from Model.Fault import FaultAnalysis\n",
    "\n",
    "def add_file_to_project_dict(file_path, project_dict):\n",
    "    \"\"\"\n",
    "    Opens a CSV file, identifies the project based on the second column's name, \n",
    "    and adds the file path to a dictionary keyed by the project.\n",
    "\n",
    "    Args:\n",
    "    file_path (str): The path to the CSV file.\n",
    "    project_dict (dict): The dictionary to update with the file path.\n",
    "\n",
    "    Returns:\n",
    "    dict: Updated dictionary with the file path added under the appropriate project key.\n",
    "    \"\"\"\n",
    "    # Read the CSV file\n",
    "    df = pd.read_csv(file_path, nrows=1)\n",
    "    \n",
    "    # Extract the project name from the second column\n",
    "    project_name = df.columns[1].split('-')[0]\n",
    "\n",
    "    # Add the file path to the dictionary under the project name key\n",
    "    project_dict[project_name] = file_path\n",
    "    \n",
    "    return project_dict\n",
    "\n",
    "projects = [\n",
    "              'BR2', \n",
    "              'BTH', \n",
    "              'CFW', \n",
    "              'DHW', \n",
    "              'GNT', \n",
    "              'GNP', \n",
    "              'GSW', \n",
    "              'KAY', \n",
    "              'PDK', \n",
    "              'RDG', \n",
    "              'SFK', \n",
    "              'SKO', \n",
    "              'TBF', \n",
    "              'WAK', \n",
    "              'WHE'\n",
    "            ]\n",
    "\n",
    "fault_analysis_objects = {}\n",
    "project_cmp_dict = {}\n",
    "project_avg_dict = {}\n",
    "\n",
    "cmp_dir = '../southernoperations/AIID/CMP'\n",
    "avg_dir = '../southernoperations/AIID/AVG'\n",
    "\n",
    "for file in os.listdir(cmp_dir):\n",
    "    this_path = os.path.join(cmp_dir, file)\n",
    "    project_cmp_dict = add_file_to_project_dict(this_path, project_dict=project_cmp_dict)\n",
    "\n",
    "for file in os.listdir(avg_dir):\n",
    "    this_path = os.path.join(avg_dir, file)\n",
    "    project_avg_dict = add_file_to_project_dict(this_path, project_dict=project_avg_dict)\n",
    "\n",
    "for project in projects:\n",
    "    \n",
    "    fault_data_path = project_cmp_dict[project]\n",
    "    \n",
    "    avg_data_path = project_avg_dict[project]\n",
    "    \n",
    "    print('Processing', project)\n",
    "    \n",
    "    cmp_data = pd.read_csv(fault_data_path, low_memory=False)\n",
    "    avg_data = pd.read_csv(avg_data_path, index_col=[0], parse_dates=[0])\n",
    "\n",
    "    downtime = FaultAnalysis(project=project, cmp_data=cmp_data, avg_data=avg_data)\n",
    "\n",
    "    downtime_data = downtime.reshaped_data\n",
    "    \n",
    "    #put each object in memory for use after run \n",
    "    fault_analysis_objects[project] = downtime\n",
    "    if downtime_data.shape[0] > 0:\n",
    "        output_data = downtime_data.loc[downtime_data['StartDateTime'] > '8/1/2023'].dropna()\n",
    "        output_data.to_csv(f'../southernoperations/AIID/Processed Faults/{project}_downtime_lost_energy.csv', index=False)\n",
    "\n",
    "        # daily file output\n",
    "        daily_data = downtime.daily_downtime()\n",
    "        daily_data['FaultCount'] = downtime.daily_fault_count()[\"FaultCount\"]\n",
    "        daily_data['LostEnergy'] = downtime.daily_lost_energy()['LostEnergy']\n",
    "        daily_data['LostRevenue'] = downtime.daily_lost_revenue()['LostRevenue']\n",
    "\n",
    "        daily_data.to_csv(f'../southernoperations/AIID/Processed Faults/{project}-daily-fault.csv', index=False)\n",
    "\n",
    "        print('Fault data transformed and output to \"southernoperations/AIID/Processed Faults\"')\n",
    "    else:\n",
    "        print(\"The downtime dataset is empty\")\n"
   ]
  },
  {
   "cell_type": "markdown",
   "metadata": {},
   "source": [
    "# Concatenate Fault Metric Files "
   ]
  },
  {
   "cell_type": "code",
   "execution_count": null,
   "metadata": {},
   "outputs": [],
   "source": [
    "import pandas as pd\n",
    "import os\n",
    "\n",
    "# Define the directory path\n",
    "directory_path = '../southernoperations/AIID/Processed Faults/'\n",
    "search_strings = ['daily-fault.csv','downtime_lost_energy.csv']\n",
    "output_file_names = ['../southernoperations/AIID/daily_turbine_fault.csv','../southernoperations/AIID/downtime_lost_energy.csv']\n",
    "\n",
    "for i, search_str in enumerate(search_strings):\n",
    "    output_file_name = output_file_names[i]\n",
    "    \n",
    "    # Get all files in the directory\n",
    "    all_files = os.listdir(directory_path)\n",
    "\n",
    "    # Filter files that contain the words 'downtime_lost_energy.csv'\n",
    "    filtered_files = [f for f in all_files if search_str in  f]\n",
    "\n",
    "    # Initialize an empty list to store DataFrames\n",
    "    dfs = []\n",
    "\n",
    "    # Read and store each file in the list\n",
    "    for file in filtered_files:\n",
    "        file_path = os.path.join(directory_path, file)\n",
    "        dfs.append(pd.read_csv(file_path))\n",
    "\n",
    "    # Concatenate all DataFrames\n",
    "    combined_df = pd.concat(dfs, ignore_index=True)\n",
    "\n",
    "    # Save the concatenated DataFrame to a new file\n",
    "    output_file = output_file_name\n",
    "    combined_df =combined_df.dropna().reset_index()\n",
    "    if \"Unnamed: 0\" in combined_df.columns:\n",
    "        combined_df = combined_df.drop(\"Unnamed: 0\", axis = 1)\n",
    "    combined_df.to_csv(output_file, index=False)\n",
    "\n",
    "    print(f\"Concatenated {len(filtered_files)} files and saved to {output_file}\")\n",
    "\n"
   ]
  },
  {
   "cell_type": "markdown",
   "metadata": {},
   "source": [
    "# Generate removed data report"
   ]
  },
  {
   "cell_type": "code",
   "execution_count": null,
   "metadata": {},
   "outputs": [],
   "source": [
    "import pandas as pd\n",
    "all_frames = []\n",
    "for wf_name, wf_obj in fleet.windfarms.items():\n",
    "    \n",
    "    for component,obj in wf_obj.components.items():\n",
    "        print(wf_name, component)\n",
    "        if hasattr(obj,'calculate_data_removal_stats'):\n",
    "            this_stats = obj.calculate_data_removal_stats()\n",
    "            all_frames.append(this_stats)\n",
    "            \n",
    "\n",
    "pd.concat(all_frames).to_csv('../southernoperations/AIID/recovery_report.csv')"
   ]
  },
  {
   "cell_type": "code",
   "execution_count": null,
   "metadata": {},
   "outputs": [],
   "source": [
    "# Insert the line below into the terminal to output link to where to visualize the results above\n",
    "# python index.py"
   ]
  },
  {
   "cell_type": "markdown",
   "metadata": {},
   "source": [
    "## Gantt chart for project proting to databricks "
   ]
  },
  {
   "cell_type": "code",
   "execution_count": null,
   "metadata": {},
   "outputs": [],
   "source": []
  },
  {
   "cell_type": "code",
   "execution_count": 23,
   "metadata": {},
   "outputs": [
    {
     "data": {
      "application/vnd.plotly.v1+json": {
       "config": {
        "plotlyServerURL": "https://plot.ly"
       },
       "data": [
        {
         "alignmentgroup": "True",
         "base": [
          "2025-01-27T00:00:00",
          "2025-01-28T12:00:00",
          "2025-01-30T12:00:00",
          "2025-02-03T12:00:00",
          "2025-02-05T00:00:00",
          "2025-02-06T12:00:00",
          "2025-02-10T12:00:00",
          "2025-02-12T00:00:00",
          "2025-02-13T12:00:00",
          "2025-02-17T00:00:00",
          "2025-02-18T12:00:00",
          "2025-02-20T00:00:00",
          "2025-02-24T00:00:00",
          "2025-02-25T12:00:00",
          "2025-02-27T12:00:00",
          "2025-03-03T00:00:00",
          "2025-03-07T00:00:00",
          "2025-03-10T12:00:00",
          "2025-03-12T00:00:00",
          "2025-03-13T12:00:00"
         ],
         "customdata": [
          [
           null
          ],
          [
           "Raw Data Table"
          ],
          [
           null
          ],
          [
           "Gradient Filtered Tables"
          ],
          [
           "Range Filtered Tables"
          ],
          [
           "Filtered Online Data Table"
          ],
          [
           "Final Cleaned Dataset"
          ],
          [
           null
          ],
          [
           "Efficiency Metrics"
          ],
          [
           "Lost Energy Metrics"
          ],
          [
           "Lost Revenue Metrics"
          ],
          [
           "Severity Metrics"
          ],
          [
           "Daily Mean Dataset"
          ],
          [
           "Power Curves Table"
          ],
          [
           "Power Curve Distribution"
          ],
          [
           "Faults Master Table"
          ],
          [
           "Downtime Metrics"
          ],
          [
           "Fault Count Metrics"
          ],
          [
           "Lost Energy Faults"
          ],
          [
           "Lost Revenue Faults"
          ]
         ],
         "hovertemplate": "Start=%{base}<br>End=%{x}<br>Tasks=%{y}<br>Dataset=%{customdata[0]}<extra></extra>",
         "legendgroup": "",
         "marker": {
          "color": "#636efa",
          "pattern": {
           "shape": ""
          }
         },
         "name": "",
         "offsetgroup": "",
         "orientation": "h",
         "showlegend": false,
         "textposition": "auto",
         "type": "bar",
         "x": [
          43200000,
          86400000,
          86400000,
          43200000,
          43200000,
          86400000,
          43200000,
          43200000,
          43200000,
          43200000,
          43200000,
          86400000,
          43200000,
          86400000,
          43200000,
          259200000,
          43200000,
          43200000,
          43200000,
          43200000
         ],
         "xaxis": "x",
         "y": [
          "Data Inventory Pre-Check",
          "Data Loading",
          "Parameter Management",
          "Gradient Cleaning",
          "Range Cleaning",
          "Online Filtering",
          "Final Clean Data",
          "Data Recovery",
          "Daily Efficiency",
          "Daily Lost Energy",
          "Daily Lost Revenue",
          "Daily Severity",
          "Daily Mean",
          "Power Curves",
          "Power Curve Distributions",
          "Reshaped Data (Faults Master Table)",
          "Daily Downtime",
          "Daily Fault Count",
          "Daily Lost Energy (Faults)",
          "Daily Lost Revenue (Faults)"
         ],
         "yaxis": "y"
        }
       ],
       "layout": {
        "annotations": [
         {
          "align": "left",
          "font": {
           "color": "black",
           "size": 10
          },
          "showarrow": false,
          "text": "QA: Raw Data Table",
          "x": "2025-01-29T00:00:00",
          "xanchor": "left",
          "xref": "x",
          "y": "Data Loading",
          "yref": "y"
         },
         {
          "align": "left",
          "font": {
           "color": "black",
           "size": 10
          },
          "showarrow": false,
          "text": "QA: Gradient Filtered Tables",
          "x": "2025-01-29T00:00:00",
          "xanchor": "left",
          "xref": "x",
          "y": "Gradient Cleaning",
          "yref": "y"
         },
         {
          "align": "left",
          "font": {
           "color": "black",
           "size": 10
          },
          "showarrow": false,
          "text": "QA: Range Filtered Tables",
          "x": "2025-01-29T00:00:00",
          "xanchor": "left",
          "xref": "x",
          "y": "Range Cleaning",
          "yref": "y"
         },
         {
          "align": "left",
          "font": {
           "color": "black",
           "size": 10
          },
          "showarrow": false,
          "text": "QA: Filtered Online Data Table",
          "x": "2025-01-29T00:00:00",
          "xanchor": "left",
          "xref": "x",
          "y": "Online Filtering",
          "yref": "y"
         },
         {
          "align": "left",
          "font": {
           "color": "black",
           "size": 10
          },
          "showarrow": false,
          "text": "QA: Final Cleaned Dataset",
          "x": "2025-01-29T00:00:00",
          "xanchor": "left",
          "xref": "x",
          "y": "Final Clean Data",
          "yref": "y"
         },
         {
          "align": "left",
          "font": {
           "color": "black",
           "size": 10
          },
          "showarrow": false,
          "text": "QA: Efficiency Metrics",
          "x": "2025-01-29T00:00:00",
          "xanchor": "left",
          "xref": "x",
          "y": "Daily Efficiency",
          "yref": "y"
         },
         {
          "align": "left",
          "font": {
           "color": "black",
           "size": 10
          },
          "showarrow": false,
          "text": "QA: Lost Energy Metrics",
          "x": "2025-01-29T00:00:00",
          "xanchor": "left",
          "xref": "x",
          "y": "Daily Lost Energy",
          "yref": "y"
         },
         {
          "align": "left",
          "font": {
           "color": "black",
           "size": 10
          },
          "showarrow": false,
          "text": "QA: Lost Revenue Metrics",
          "x": "2025-01-29T00:00:00",
          "xanchor": "left",
          "xref": "x",
          "y": "Daily Lost Revenue",
          "yref": "y"
         },
         {
          "align": "left",
          "font": {
           "color": "black",
           "size": 10
          },
          "showarrow": false,
          "text": "QA: Severity Metrics",
          "x": "2025-01-29T00:00:00",
          "xanchor": "left",
          "xref": "x",
          "y": "Daily Severity",
          "yref": "y"
         },
         {
          "align": "left",
          "font": {
           "color": "black",
           "size": 10
          },
          "showarrow": false,
          "text": "QA: Daily Mean Dataset",
          "x": "2025-01-29T00:00:00",
          "xanchor": "left",
          "xref": "x",
          "y": "Daily Mean",
          "yref": "y"
         },
         {
          "align": "left",
          "font": {
           "color": "black",
           "size": 10
          },
          "showarrow": false,
          "text": "QA: Power Curves Table",
          "x": "2025-01-29T00:00:00",
          "xanchor": "left",
          "xref": "x",
          "y": "Power Curves",
          "yref": "y"
         },
         {
          "align": "left",
          "font": {
           "color": "black",
           "size": 10
          },
          "showarrow": false,
          "text": "QA: Power Curve Distribution",
          "x": "2025-01-29T00:00:00",
          "xanchor": "left",
          "xref": "x",
          "y": "Power Curve Distributions",
          "yref": "y"
         },
         {
          "align": "left",
          "font": {
           "color": "black",
           "size": 10
          },
          "showarrow": false,
          "text": "QA: Faults Master Table",
          "x": "2025-01-29T00:00:00",
          "xanchor": "left",
          "xref": "x",
          "y": "Reshaped Data (Faults Master Table)",
          "yref": "y"
         },
         {
          "align": "left",
          "font": {
           "color": "black",
           "size": 10
          },
          "showarrow": false,
          "text": "QA: Downtime Metrics",
          "x": "2025-01-29T00:00:00",
          "xanchor": "left",
          "xref": "x",
          "y": "Daily Downtime",
          "yref": "y"
         },
         {
          "align": "left",
          "font": {
           "color": "black",
           "size": 10
          },
          "showarrow": false,
          "text": "QA: Fault Count Metrics",
          "x": "2025-01-29T00:00:00",
          "xanchor": "left",
          "xref": "x",
          "y": "Daily Fault Count",
          "yref": "y"
         },
         {
          "align": "left",
          "font": {
           "color": "black",
           "size": 10
          },
          "showarrow": false,
          "text": "QA: Lost Energy Faults",
          "x": "2025-01-29T00:00:00",
          "xanchor": "left",
          "xref": "x",
          "y": "Daily Lost Energy (Faults)",
          "yref": "y"
         },
         {
          "align": "left",
          "font": {
           "color": "black",
           "size": 10
          },
          "showarrow": false,
          "text": "QA: Lost Revenue Faults",
          "x": "2025-01-29T00:00:00",
          "xanchor": "left",
          "xref": "x",
          "y": "Daily Lost Revenue (Faults)",
          "yref": "y"
         }
        ],
        "barmode": "overlay",
        "height": 1200,
        "legend": {
         "tracegroupgap": 0
        },
        "template": {
         "data": {
          "bar": [
           {
            "error_x": {
             "color": "#2a3f5f"
            },
            "error_y": {
             "color": "#2a3f5f"
            },
            "marker": {
             "line": {
              "color": "white",
              "width": 0.5
             },
             "pattern": {
              "fillmode": "overlay",
              "size": 10,
              "solidity": 0.2
             }
            },
            "type": "bar"
           }
          ],
          "barpolar": [
           {
            "marker": {
             "line": {
              "color": "white",
              "width": 0.5
             },
             "pattern": {
              "fillmode": "overlay",
              "size": 10,
              "solidity": 0.2
             }
            },
            "type": "barpolar"
           }
          ],
          "carpet": [
           {
            "aaxis": {
             "endlinecolor": "#2a3f5f",
             "gridcolor": "#C8D4E3",
             "linecolor": "#C8D4E3",
             "minorgridcolor": "#C8D4E3",
             "startlinecolor": "#2a3f5f"
            },
            "baxis": {
             "endlinecolor": "#2a3f5f",
             "gridcolor": "#C8D4E3",
             "linecolor": "#C8D4E3",
             "minorgridcolor": "#C8D4E3",
             "startlinecolor": "#2a3f5f"
            },
            "type": "carpet"
           }
          ],
          "choropleth": [
           {
            "colorbar": {
             "outlinewidth": 0,
             "ticks": ""
            },
            "type": "choropleth"
           }
          ],
          "contour": [
           {
            "colorbar": {
             "outlinewidth": 0,
             "ticks": ""
            },
            "colorscale": [
             [
              0,
              "#0d0887"
             ],
             [
              0.1111111111111111,
              "#46039f"
             ],
             [
              0.2222222222222222,
              "#7201a8"
             ],
             [
              0.3333333333333333,
              "#9c179e"
             ],
             [
              0.4444444444444444,
              "#bd3786"
             ],
             [
              0.5555555555555556,
              "#d8576b"
             ],
             [
              0.6666666666666666,
              "#ed7953"
             ],
             [
              0.7777777777777778,
              "#fb9f3a"
             ],
             [
              0.8888888888888888,
              "#fdca26"
             ],
             [
              1,
              "#f0f921"
             ]
            ],
            "type": "contour"
           }
          ],
          "contourcarpet": [
           {
            "colorbar": {
             "outlinewidth": 0,
             "ticks": ""
            },
            "type": "contourcarpet"
           }
          ],
          "heatmap": [
           {
            "colorbar": {
             "outlinewidth": 0,
             "ticks": ""
            },
            "colorscale": [
             [
              0,
              "#0d0887"
             ],
             [
              0.1111111111111111,
              "#46039f"
             ],
             [
              0.2222222222222222,
              "#7201a8"
             ],
             [
              0.3333333333333333,
              "#9c179e"
             ],
             [
              0.4444444444444444,
              "#bd3786"
             ],
             [
              0.5555555555555556,
              "#d8576b"
             ],
             [
              0.6666666666666666,
              "#ed7953"
             ],
             [
              0.7777777777777778,
              "#fb9f3a"
             ],
             [
              0.8888888888888888,
              "#fdca26"
             ],
             [
              1,
              "#f0f921"
             ]
            ],
            "type": "heatmap"
           }
          ],
          "heatmapgl": [
           {
            "colorbar": {
             "outlinewidth": 0,
             "ticks": ""
            },
            "colorscale": [
             [
              0,
              "#0d0887"
             ],
             [
              0.1111111111111111,
              "#46039f"
             ],
             [
              0.2222222222222222,
              "#7201a8"
             ],
             [
              0.3333333333333333,
              "#9c179e"
             ],
             [
              0.4444444444444444,
              "#bd3786"
             ],
             [
              0.5555555555555556,
              "#d8576b"
             ],
             [
              0.6666666666666666,
              "#ed7953"
             ],
             [
              0.7777777777777778,
              "#fb9f3a"
             ],
             [
              0.8888888888888888,
              "#fdca26"
             ],
             [
              1,
              "#f0f921"
             ]
            ],
            "type": "heatmapgl"
           }
          ],
          "histogram": [
           {
            "marker": {
             "pattern": {
              "fillmode": "overlay",
              "size": 10,
              "solidity": 0.2
             }
            },
            "type": "histogram"
           }
          ],
          "histogram2d": [
           {
            "colorbar": {
             "outlinewidth": 0,
             "ticks": ""
            },
            "colorscale": [
             [
              0,
              "#0d0887"
             ],
             [
              0.1111111111111111,
              "#46039f"
             ],
             [
              0.2222222222222222,
              "#7201a8"
             ],
             [
              0.3333333333333333,
              "#9c179e"
             ],
             [
              0.4444444444444444,
              "#bd3786"
             ],
             [
              0.5555555555555556,
              "#d8576b"
             ],
             [
              0.6666666666666666,
              "#ed7953"
             ],
             [
              0.7777777777777778,
              "#fb9f3a"
             ],
             [
              0.8888888888888888,
              "#fdca26"
             ],
             [
              1,
              "#f0f921"
             ]
            ],
            "type": "histogram2d"
           }
          ],
          "histogram2dcontour": [
           {
            "colorbar": {
             "outlinewidth": 0,
             "ticks": ""
            },
            "colorscale": [
             [
              0,
              "#0d0887"
             ],
             [
              0.1111111111111111,
              "#46039f"
             ],
             [
              0.2222222222222222,
              "#7201a8"
             ],
             [
              0.3333333333333333,
              "#9c179e"
             ],
             [
              0.4444444444444444,
              "#bd3786"
             ],
             [
              0.5555555555555556,
              "#d8576b"
             ],
             [
              0.6666666666666666,
              "#ed7953"
             ],
             [
              0.7777777777777778,
              "#fb9f3a"
             ],
             [
              0.8888888888888888,
              "#fdca26"
             ],
             [
              1,
              "#f0f921"
             ]
            ],
            "type": "histogram2dcontour"
           }
          ],
          "mesh3d": [
           {
            "colorbar": {
             "outlinewidth": 0,
             "ticks": ""
            },
            "type": "mesh3d"
           }
          ],
          "parcoords": [
           {
            "line": {
             "colorbar": {
              "outlinewidth": 0,
              "ticks": ""
             }
            },
            "type": "parcoords"
           }
          ],
          "pie": [
           {
            "automargin": true,
            "type": "pie"
           }
          ],
          "scatter": [
           {
            "fillpattern": {
             "fillmode": "overlay",
             "size": 10,
             "solidity": 0.2
            },
            "type": "scatter"
           }
          ],
          "scatter3d": [
           {
            "line": {
             "colorbar": {
              "outlinewidth": 0,
              "ticks": ""
             }
            },
            "marker": {
             "colorbar": {
              "outlinewidth": 0,
              "ticks": ""
             }
            },
            "type": "scatter3d"
           }
          ],
          "scattercarpet": [
           {
            "marker": {
             "colorbar": {
              "outlinewidth": 0,
              "ticks": ""
             }
            },
            "type": "scattercarpet"
           }
          ],
          "scattergeo": [
           {
            "marker": {
             "colorbar": {
              "outlinewidth": 0,
              "ticks": ""
             }
            },
            "type": "scattergeo"
           }
          ],
          "scattergl": [
           {
            "marker": {
             "colorbar": {
              "outlinewidth": 0,
              "ticks": ""
             }
            },
            "type": "scattergl"
           }
          ],
          "scattermapbox": [
           {
            "marker": {
             "colorbar": {
              "outlinewidth": 0,
              "ticks": ""
             }
            },
            "type": "scattermapbox"
           }
          ],
          "scatterpolar": [
           {
            "marker": {
             "colorbar": {
              "outlinewidth": 0,
              "ticks": ""
             }
            },
            "type": "scatterpolar"
           }
          ],
          "scatterpolargl": [
           {
            "marker": {
             "colorbar": {
              "outlinewidth": 0,
              "ticks": ""
             }
            },
            "type": "scatterpolargl"
           }
          ],
          "scatterternary": [
           {
            "marker": {
             "colorbar": {
              "outlinewidth": 0,
              "ticks": ""
             }
            },
            "type": "scatterternary"
           }
          ],
          "surface": [
           {
            "colorbar": {
             "outlinewidth": 0,
             "ticks": ""
            },
            "colorscale": [
             [
              0,
              "#0d0887"
             ],
             [
              0.1111111111111111,
              "#46039f"
             ],
             [
              0.2222222222222222,
              "#7201a8"
             ],
             [
              0.3333333333333333,
              "#9c179e"
             ],
             [
              0.4444444444444444,
              "#bd3786"
             ],
             [
              0.5555555555555556,
              "#d8576b"
             ],
             [
              0.6666666666666666,
              "#ed7953"
             ],
             [
              0.7777777777777778,
              "#fb9f3a"
             ],
             [
              0.8888888888888888,
              "#fdca26"
             ],
             [
              1,
              "#f0f921"
             ]
            ],
            "type": "surface"
           }
          ],
          "table": [
           {
            "cells": {
             "fill": {
              "color": "#EBF0F8"
             },
             "line": {
              "color": "white"
             }
            },
            "header": {
             "fill": {
              "color": "#C8D4E3"
             },
             "line": {
              "color": "white"
             }
            },
            "type": "table"
           }
          ]
         },
         "layout": {
          "annotationdefaults": {
           "arrowcolor": "#2a3f5f",
           "arrowhead": 0,
           "arrowwidth": 1
          },
          "autotypenumbers": "strict",
          "coloraxis": {
           "colorbar": {
            "outlinewidth": 0,
            "ticks": ""
           }
          },
          "colorscale": {
           "diverging": [
            [
             0,
             "#8e0152"
            ],
            [
             0.1,
             "#c51b7d"
            ],
            [
             0.2,
             "#de77ae"
            ],
            [
             0.3,
             "#f1b6da"
            ],
            [
             0.4,
             "#fde0ef"
            ],
            [
             0.5,
             "#f7f7f7"
            ],
            [
             0.6,
             "#e6f5d0"
            ],
            [
             0.7,
             "#b8e186"
            ],
            [
             0.8,
             "#7fbc41"
            ],
            [
             0.9,
             "#4d9221"
            ],
            [
             1,
             "#276419"
            ]
           ],
           "sequential": [
            [
             0,
             "#0d0887"
            ],
            [
             0.1111111111111111,
             "#46039f"
            ],
            [
             0.2222222222222222,
             "#7201a8"
            ],
            [
             0.3333333333333333,
             "#9c179e"
            ],
            [
             0.4444444444444444,
             "#bd3786"
            ],
            [
             0.5555555555555556,
             "#d8576b"
            ],
            [
             0.6666666666666666,
             "#ed7953"
            ],
            [
             0.7777777777777778,
             "#fb9f3a"
            ],
            [
             0.8888888888888888,
             "#fdca26"
            ],
            [
             1,
             "#f0f921"
            ]
           ],
           "sequentialminus": [
            [
             0,
             "#0d0887"
            ],
            [
             0.1111111111111111,
             "#46039f"
            ],
            [
             0.2222222222222222,
             "#7201a8"
            ],
            [
             0.3333333333333333,
             "#9c179e"
            ],
            [
             0.4444444444444444,
             "#bd3786"
            ],
            [
             0.5555555555555556,
             "#d8576b"
            ],
            [
             0.6666666666666666,
             "#ed7953"
            ],
            [
             0.7777777777777778,
             "#fb9f3a"
            ],
            [
             0.8888888888888888,
             "#fdca26"
            ],
            [
             1,
             "#f0f921"
            ]
           ]
          },
          "colorway": [
           "#636efa",
           "#EF553B",
           "#00cc96",
           "#ab63fa",
           "#FFA15A",
           "#19d3f3",
           "#FF6692",
           "#B6E880",
           "#FF97FF",
           "#FECB52"
          ],
          "font": {
           "color": "#2a3f5f"
          },
          "geo": {
           "bgcolor": "white",
           "lakecolor": "white",
           "landcolor": "white",
           "showlakes": true,
           "showland": true,
           "subunitcolor": "#C8D4E3"
          },
          "hoverlabel": {
           "align": "left"
          },
          "hovermode": "closest",
          "mapbox": {
           "style": "light"
          },
          "paper_bgcolor": "white",
          "plot_bgcolor": "white",
          "polar": {
           "angularaxis": {
            "gridcolor": "#EBF0F8",
            "linecolor": "#EBF0F8",
            "ticks": ""
           },
           "bgcolor": "white",
           "radialaxis": {
            "gridcolor": "#EBF0F8",
            "linecolor": "#EBF0F8",
            "ticks": ""
           }
          },
          "scene": {
           "xaxis": {
            "backgroundcolor": "white",
            "gridcolor": "#DFE8F3",
            "gridwidth": 2,
            "linecolor": "#EBF0F8",
            "showbackground": true,
            "ticks": "",
            "zerolinecolor": "#EBF0F8"
           },
           "yaxis": {
            "backgroundcolor": "white",
            "gridcolor": "#DFE8F3",
            "gridwidth": 2,
            "linecolor": "#EBF0F8",
            "showbackground": true,
            "ticks": "",
            "zerolinecolor": "#EBF0F8"
           },
           "zaxis": {
            "backgroundcolor": "white",
            "gridcolor": "#DFE8F3",
            "gridwidth": 2,
            "linecolor": "#EBF0F8",
            "showbackground": true,
            "ticks": "",
            "zerolinecolor": "#EBF0F8"
           }
          },
          "shapedefaults": {
           "line": {
            "color": "#2a3f5f"
           }
          },
          "ternary": {
           "aaxis": {
            "gridcolor": "#DFE8F3",
            "linecolor": "#A2B1C6",
            "ticks": ""
           },
           "baxis": {
            "gridcolor": "#DFE8F3",
            "linecolor": "#A2B1C6",
            "ticks": ""
           },
           "bgcolor": "white",
           "caxis": {
            "gridcolor": "#DFE8F3",
            "linecolor": "#A2B1C6",
            "ticks": ""
           }
          },
          "title": {
           "x": 0.05
          },
          "xaxis": {
           "automargin": true,
           "gridcolor": "#EBF0F8",
           "linecolor": "#EBF0F8",
           "ticks": "",
           "title": {
            "standoff": 15
           },
           "zerolinecolor": "#EBF0F8",
           "zerolinewidth": 2
          },
          "yaxis": {
           "automargin": true,
           "gridcolor": "#EBF0F8",
           "linecolor": "#EBF0F8",
           "ticks": "",
           "title": {
            "standoff": 15
           },
           "zerolinecolor": "#EBF0F8",
           "zerolinewidth": 2
          }
         }
        },
        "title": {
         "text": "Gantt Chart for Databricks Porting with Updated Schedule"
        },
        "width": 1400,
        "xaxis": {
         "anchor": "y",
         "domain": [
          0,
          1
         ],
         "range": [
          "2025-01-27T00:00:00",
          "2025-03-18T00:00:00"
         ],
         "title": {
          "text": "Timeline"
         },
         "type": "date"
        },
        "yaxis": {
         "anchor": "x",
         "autorange": "reversed",
         "domain": [
          0,
          1
         ],
         "title": {
          "text": "Tasks"
         }
        }
       }
      }
     },
     "metadata": {},
     "output_type": "display_data"
    }
   ],
   "source": [
    "import pandas as pd\n",
    "import plotly.express as px\n",
    "\n",
    "# Define the task data for the Gantt chart\n",
    "data = [\n",
    "    {\"Task\": \"Data Inventory Pre-Check\", \"Start\": \"2025-01-27\", \"Duration\": 1, \"Dataset\": None},\n",
    "    {\"Task\": \"Data Loading\", \"Start\": None, \"Duration\": 2, \"Dataset\": \"Raw Data Table\"},\n",
    "    {\"Task\": \"Parameter Management\", \"Start\": None, \"Duration\": 2, \"Dataset\": None},\n",
    "    {\"Task\": \"Gradient Cleaning\", \"Start\": None, \"Duration\": 1, \"Dataset\": \"Gradient Filtered Tables\"},\n",
    "    {\"Task\": \"Range Cleaning\", \"Start\": None, \"Duration\": 1, \"Dataset\": \"Range Filtered Tables\"},\n",
    "    {\"Task\": \"Online Filtering\", \"Start\": None, \"Duration\": 2, \"Dataset\": \"Filtered Online Data Table\"},\n",
    "    {\"Task\": \"Final Clean Data\", \"Start\": None, \"Duration\": 1, \"Dataset\": \"Final Cleaned Dataset\"},\n",
    "    {\"Task\": \"Data Recovery\", \"Start\": None, \"Duration\": 1, \"Dataset\": None},\n",
    "    {\"Task\": \"Daily Efficiency\", \"Start\": None, \"Duration\": 1, \"Dataset\": \"Efficiency Metrics\"},\n",
    "    {\"Task\": \"Daily Lost Energy\", \"Start\": None, \"Duration\": 1, \"Dataset\": \"Lost Energy Metrics\"},\n",
    "    {\"Task\": \"Daily Lost Revenue\", \"Start\": None, \"Duration\": 1, \"Dataset\": \"Lost Revenue Metrics\"},\n",
    "    {\"Task\": \"Daily Severity\", \"Start\": None, \"Duration\": 2, \"Dataset\": \"Severity Metrics\"},\n",
    "    {\"Task\": \"Daily Mean\", \"Start\": None, \"Duration\": 1, \"Dataset\": \"Daily Mean Dataset\"},\n",
    "    {\"Task\": \"Power Curves\", \"Start\": None, \"Duration\": 2, \"Dataset\": \"Power Curves Table\"},\n",
    "    {\"Task\": \"Power Curve Distributions\", \"Start\": None, \"Duration\": 1, \"Dataset\": \"Power Curve Distribution\"},\n",
    "    {\"Task\": \"Reshaped Data (Faults Master Table)\", \"Start\": None, \"Duration\": 4, \"Dataset\": \"Faults Master Table\"},\n",
    "    {\"Task\": \"Daily Downtime\", \"Start\": None, \"Duration\": 1, \"Dataset\": \"Downtime Metrics\"},\n",
    "    {\"Task\": \"Daily Fault Count\", \"Start\": None, \"Duration\": 1, \"Dataset\": \"Fault Count Metrics\"},\n",
    "    {\"Task\": \"Daily Lost Energy (Faults)\", \"Start\": None, \"Duration\": 1, \"Dataset\": \"Lost Energy Faults\"},\n",
    "    {\"Task\": \"Daily Lost Revenue (Faults)\", \"Start\": None, \"Duration\": 1, \"Dataset\": \"Lost Revenue Faults\"},\n",
    "]\n",
    "\n",
    "# Helper function to calculate task segments (split tasks over weekends)\n",
    "def split_task(task):\n",
    "    segments = []\n",
    "    start_date = pd.Timestamp(task[\"Start\"])\n",
    "    duration = task[\"Duration\"]\n",
    "\n",
    "    while duration > 0:\n",
    "        days_to_weekend = 4 - start_date.weekday()\n",
    "        work_days = min(days_to_weekend + 1, duration) if start_date.weekday() < 5 else 0\n",
    "        end_date = start_date + pd.Timedelta(days=work_days - 1)\n",
    "\n",
    "        if work_days > 0:\n",
    "            segments.append({\n",
    "                \"Task\": task[\"Task\"],\n",
    "                \"Start\": start_date,\n",
    "                \"End\": end_date + pd.Timedelta(hours=12) if start_date == end_date else end_date,\n",
    "                \"Dataset\": task[\"Dataset\"] if len(segments) == 0 else None\n",
    "            })\n",
    "\n",
    "        duration -= work_days\n",
    "        start_date = end_date + pd.Timedelta(days=1)\n",
    "        while start_date.weekday() >= 5:\n",
    "            start_date += pd.Timedelta(days=1)\n",
    "\n",
    "    return segments\n",
    "\n",
    "# Assign start dates and split tasks over weekends\n",
    "current_start = pd.Timestamp(\"2025-01-13\")\n",
    "split_tasks = []\n",
    "for task in data:\n",
    "    if not task[\"Start\"]:\n",
    "        task[\"Start\"] = current_start\n",
    "    split_tasks.extend(split_task(task))\n",
    "    current_start = split_tasks[-1][\"End\"] + pd.Timedelta(days=1)\n",
    "    while current_start.weekday() >= 5:\n",
    "        current_start += pd.Timedelta(days=1)\n",
    "\n",
    "# Create a DataFrame\n",
    "df = pd.DataFrame(split_tasks)\n",
    "\n",
    "# Generate the Gantt chart\n",
    "fig = px.timeline(\n",
    "    df,\n",
    "    x_start=\"Start\",\n",
    "    x_end=\"End\",\n",
    "    y=\"Task\",\n",
    "    title=\"Gantt Chart for Databricks Porting with Updated Schedule\",\n",
    "    labels={\"Task\": \"Tasks\"},\n",
    "    hover_data=[\"Dataset\"],\n",
    ")\n",
    "\n",
    "# Extend the x-axis to avoid clipping\n",
    "fig.update_layout(\n",
    "    xaxis=dict(title=\"Timeline\", range=[df[\"Start\"].min(), df[\"End\"].max() + pd.Timedelta(days=4)]),\n",
    "    yaxis=dict(title=\"Tasks\", autorange=\"reversed\"),\n",
    "    height=1200,\n",
    "    width=1400,\n",
    "    template=\"plotly_white\",\n",
    ")\n",
    "\n",
    "# Add annotations for datasets, offset to the right of the leftmost edge\n",
    "annotations = []\n",
    "\n",
    "offset = pd.Timedelta(days=2)  # Offset the annotations slightly to the right\n",
    "\n",
    "for task_name in df[\"Task\"].unique():\n",
    "    task_segments = df[df[\"Task\"] == task_name]\n",
    "    rightmost_segment = task_segments[task_segments[\"Dataset\"].notnull()]\n",
    "    if not rightmost_segment.empty:\n",
    "        annotations.append(\n",
    "            {\n",
    "                \"x\": df[\"Start\"].min() + offset,  # Offset slightly to the right\n",
    "                \"y\": rightmost_segment[\"Task\"].values[0],\n",
    "                \"text\": f\"QA: {rightmost_segment['Dataset'].values[0]}\",\n",
    "                \"showarrow\": False,\n",
    "                \"font\": {\"size\": 10, \"color\": \"black\"},\n",
    "                \"align\": \"left\",\n",
    "                \"xanchor\": \"left\",\n",
    "                \"xref\": \"x\",\n",
    "                \"yref\": \"y\",\n",
    "            }\n",
    "        )\n",
    "\n",
    "fig.update_layout(annotations=annotations)\n",
    "\n",
    "# Show the chart\n",
    "fig.show()\n"
   ]
  }
 ],
 "metadata": {
  "kernelspec": {
   "display_name": "aiid_env",
   "language": "python",
   "name": "python3"
  },
  "language_info": {
   "codemirror_mode": {
    "name": "ipython",
    "version": 3
   },
   "file_extension": ".py",
   "mimetype": "text/x-python",
   "name": "python",
   "nbconvert_exporter": "python",
   "pygments_lexer": "ipython3",
   "version": "3.11.9"
  }
 },
 "nbformat": 4,
 "nbformat_minor": 4
}
